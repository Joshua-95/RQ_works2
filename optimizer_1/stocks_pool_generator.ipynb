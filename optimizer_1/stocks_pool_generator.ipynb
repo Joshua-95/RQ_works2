{
 "cells": [
  {
   "cell_type": "markdown",
   "metadata": {},
   "source": [
    "测试组合：\n",
    "\n",
    "\t第一类组合：全市场股票按市值排序，划分为N个股票数目为10个的组合</p>\n",
    "\n",
    "\t第二类组合：全市场股票按市值排序，划分为N个股票数目为50个的组合</p>\n",
    "\n",
    "\t第三类组合：全市场股票按市值排序，划分N个股票数目为100个的组合</p>\n",
    "\n",
    "\t第四类组合：申万一级行业分类的28个行业作为股票组合</p>\n",
    "\n",
    "\t第五类组合：买入申万一级行业分类的28个行业中：（1）各行业中市值最大的股票，共计28只股票；(2) 各行业中市值最小的股票，共计28只股票</p>\n",
    "\n",
    "\t第六类组合：买入申万一级行业分类的28个行业中：（1）各行业中市值前二的股票，共计56只股票；(2) 各行业中市值后二的股票，共计56只股票</p>\n",
    "\n",
    "\t第七类组合：买入申万一级行业分类的28个行业中：（1）各行业中市值前五股票，共计140只股票；(2) 各行业中市值后五股票，共计140只股票</p>\n",
    "\n",
    "\t第八类组合：买入申万一级行业分类的28个行业中：（1）各行业中市值前五和市值后五的股票，共计280只股票 </p>\n",
    "\n"
   ]
  },
  {
   "cell_type": "code",
   "execution_count": null,
   "metadata": {},
   "outputs": [],
   "source": [
    "def get_subnew_delisted_assets(order_book_ids,date,N,type=\"CS\"):\n",
    "    \"\"\"\n",
    "    # 获得某日上市小于N天的次新股\n",
    "    :param stocks: list 股票列表\n",
    "    :param date: str eg. \"2018-01-01\"\n",
    "    :param N: int 次新股过滤的阈值\n",
    "    :return: list 列表中的次新股\n",
    "    \"\"\"\n",
    "\n",
    "    instruments_fun = fund.instruments if type == \"Fund\" else instruments\n",
    "    all_detail_instruments = instruments_fun(order_book_ids)\n",
    "    subnew_assets = [s for s in all_detail_instruments if len(get_trading_dates(s.listed_date,date))<=N] if isinstance(N,int) else []\n",
    "    delisted_assets = [s for s in all_detail_instruments if (not s.de_listed_date ==\"0000-00-00\") and pd.Timestamp(s.de_listed_date)<pd.Timestamp(date)]\n",
    "\n",
    "    return subnew_assets,delisted_assets\n",
    "\n",
    "def get_st_stocks(stocks,date):\n",
    "    \"\"\"\n",
    "    获得某日的ST类股票\n",
    "    :param stocks: list 股票列表\n",
    "    :param date: 交易日\n",
    "    :return: list 列表中st的股票\n",
    "    \"\"\"\n",
    "    previous_date = get_previous_trading_date(date)\n",
    "    st_series = is_st_stock(stocks,start_date=previous_date,end_date=date).iloc[-1]\n",
    "    return st_series[st_series].index.tolist()\n",
    "\n",
    "def get_suspended_stocks(stocks,end_date,N):\n",
    "    \"\"\"\n",
    "    获得起始日期内未停牌过的股票列表\n",
    "    :param stocks: list 股票列表\n",
    "    :param start_date: 交易日\n",
    "    :return: list 列表中的停牌股\n",
    "    \"\"\"\n",
    "    start_date = rqdatac.trading_date_offset(end_date,-N)\n",
    "    volume = get_price(stocks, start_date, end_date, fields=\"volume\")\n",
    "    suspended_day = (volume == 0).sum(axis=0)\n",
    "    return suspended_day[suspended_day>0].index.tolist()"
   ]
  },
  {
   "cell_type": "markdown",
   "metadata": {},
   "source": [
    "####  以下获得剔除ST、次新股、退市、停牌股票列表 （次新股阈值=126）"
   ]
  },
  {
   "cell_type": "markdown",
   "metadata": {},
   "source": [
    "#### 获得 2014-2018年6月31日的所有月份的第一个交易日"
   ]
  },
  {
   "cell_type": "code",
   "execution_count": null,
   "metadata": {},
   "outputs": [],
   "source": [
    "dates = get_trading_dates(\"2014-01-01\",\"2018-06-31\")\n",
    "df = pd.DataFrame(dates).astype(str)\n",
    "df[\"group\"] = df[0].str[:7]\n",
    "dates = df.groupby(\"group\").first()[0].values.tolist()"
   ]
  },
  {
   "cell_type": "code",
   "execution_count": null,
   "metadata": {},
   "outputs": [],
   "source": [
    "window=126\n",
    "stocks_list = {}\n",
    "for d in dates[:]:\n",
    "    stocks = all_instruments(\"CS\",date=d).order_book_id.tolist()\n",
    "    st = get_st_stocks(stocks,d)\n",
    "    subnew,delisted = get_subnew_delisted_assets(stocks,d,window)\n",
    "    suspend = get_suspended_stocks(stocks,d,window)\n",
    "    stocks = list(set(stocks)-set(st)-set(subnew)-set(suspend)-set(delisted))\n",
    "    stocks_list[d] = stocks\n",
    "pd.Series(stocks_list).to_pickle(\"all_stocks_list.pkl\")"
   ]
  },
  {
   "cell_type": "markdown",
   "metadata": {},
   "source": [
    "#### 获得测试组合"
   ]
  },
  {
   "cell_type": "code",
   "execution_count": 5,
   "metadata": {},
   "outputs": [],
   "source": [
    "import pandas as pd\n",
    "import numpy as np"
   ]
  },
  {
   "cell_type": "code",
   "execution_count": 6,
   "metadata": {},
   "outputs": [],
   "source": [
    "data = pd.read_pickle(\"all_stocks_list.pkl\")"
   ]
  },
  {
   "cell_type": "markdown",
   "metadata": {},
   "source": [
    "#### plan1-3"
   ]
  },
  {
   "cell_type": "code",
   "execution_count": null,
   "metadata": {},
   "outputs": [],
   "source": [
    "def get_stocks_list(stocksList,size,d):\n",
    "    marketCap = get_factor(stocksList,\"a_share_market_val\",date=d)  \n",
    "    marketCap.sort_values(ascending=False,inplace=True)\n",
    "    cut_stocks={}\n",
    "    for i in np.arange(int(len(marketCap)/size)):\n",
    "        cut_stocks[i] = (marketCap.truncate(i*size,(i+1)*size)).index.tolist()\n",
    "    return pd.Series(cut_stocks)"
   ]
  },
  {
   "cell_type": "code",
   "execution_count": null,
   "metadata": {},
   "outputs": [],
   "source": [
    "size = 100\n",
    "all_separate_stocks = {}\n",
    "for i,d in enumerate(data):\n",
    "    all_separate_stocks[data.index[i]] = get_stocks_list(d,100,data.index[i])    \n",
    "pd.DataFrame(all_separate_stocks).to_pickle(\"plan3.pkl\")    "
   ]
  },
  {
   "cell_type": "markdown",
   "metadata": {},
   "source": [
    "#### plan4"
   ]
  },
  {
   "cell_type": "code",
   "execution_count": null,
   "metadata": {},
   "outputs": [],
   "source": [
    "all_stocks_list = {}\n",
    "for i,d in enumerate(data):\n",
    "    print(i)\n",
    "    shenwan_data = shenwan_instrument_industry(d,data.index[i])\n",
    "    group_data = shenwan_data.groupby(\"index_name\").apply(lambda x:x.index.tolist())\n",
    "    all_stocks_list[data.index[i]] = group_data\n",
    "pd.DataFrame(all_stocks_list).to_pickle(\"plan4.pkl\")    "
   ]
  },
  {
   "cell_type": "markdown",
   "metadata": {},
   "source": [
    "#### plan5-7"
   ]
  },
  {
   "cell_type": "code",
   "execution_count": 23,
   "metadata": {},
   "outputs": [],
   "source": [
    "from functools import reduce"
   ]
  },
  {
   "cell_type": "code",
   "execution_count": null,
   "metadata": {},
   "outputs": [],
   "source": [
    "data = pd.read_pickle(\"plan4.pkl\")"
   ]
  },
  {
   "cell_type": "code",
   "execution_count": 59,
   "metadata": {},
   "outputs": [],
   "source": [
    "def get_extreme_size_stocks(stocks,size,d):\n",
    "    factor_data = get_factor(stocks,\"a_share_market_val\",date=d).sort_values().index.tolist()\n",
    "    stocks_list = [factor_data[:size],factor_data[-size:]]\n",
    "    return stocks_list\n",
    "    "
   ]
  },
  {
   "cell_type": "code",
   "execution_count": 82,
   "metadata": {},
   "outputs": [],
   "source": [
    "size = 1  # 2,5\n",
    "res = data.apply(lambda x: x.apply(lambda s:get_extreme_size_stocks(s,size,x.name)))\n",
    "small_size = res.apply(lambda x:x.apply(lambda y:y[0])).apply(lambda x: reduce(lambda z,y:set(z)|set(y),x))\n",
    "big_size = res.apply(lambda x:x.apply(lambda y:y[1])).apply(lambda x: reduce(lambda z,y:set(z)|set(y),x))\n",
    "v = pd.concat([small_size,big_size],axis=1).rename(columns={0:\"S\",1:\"B\"})\n",
    "# size 1,2,5 分别对应  plan5,6,7.pkl\n",
    "v.to_pickle(\"plan7.pkl\")"
   ]
  },
  {
   "cell_type": "markdown",
   "metadata": {},
   "source": [
    "#### plan8"
   ]
  },
  {
   "cell_type": "code",
   "execution_count": 86,
   "metadata": {},
   "outputs": [],
   "source": [
    "pd.read_pickle(\"plan7.pkl\").T.apply(lambda x:reduce(lambda z,y:set(z)|set(y),x)).to_pickle(\"plan8.pkl\")"
   ]
  }
 ],
 "metadata": {
  "kernelspec": {
   "display_name": "Python 3",
   "language": "python",
   "name": "python3"
  },
  "language_info": {
   "codemirror_mode": {
    "name": "ipython",
    "version": 3
   },
   "file_extension": ".py",
   "mimetype": "text/x-python",
   "name": "python",
   "nbconvert_exporter": "python",
   "pygments_lexer": "ipython3",
   "version": "3.5.5"
  }
 },
 "nbformat": 4,
 "nbformat_minor": 2
}
