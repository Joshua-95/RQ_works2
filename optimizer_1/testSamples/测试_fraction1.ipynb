{
 "cells": [
  {
   "cell_type": "markdown",
   "metadata": {},
   "source": [
    "### 测试样例"
   ]
  },
  {
   "cell_type": "markdown",
   "metadata": {},
   "source": [
    "以下sample_portfolios 需要自行取值传入，相关股票池获取的代码可以参考 文件 <font color=#DC143C size=4 face=\"黑体\"><**stocks_pool_generator.ipynb **></font>"
   ]
  },
  {
   "cell_type": "markdown",
   "metadata": {},
   "source": [
    "输入sample_portfolios的统一格式为：{\"date1\":order_book_ids1,\"date2\":order_book_ids2}"
   ]
  },
  {
   "cell_type": "code",
   "execution_count": null,
   "metadata": {},
   "outputs": [],
   "source": [
    "import pandas as pd\n",
    "import numpy as np\n",
    "from optimizer_1 import *"
   ]
  },
  {
   "cell_type": "code",
   "execution_count": null,
   "metadata": {},
   "outputs": [],
   "source": [
    "sample_portfolios = {'2014-01-02': ['600187.XSHG',\n",
    "  '600808.XSHG',\n",
    "  '600616.XSHG',\n",
    "  '300023.XSHE',\n",
    "  '600809.XSHG',\n",
    "  '600614.XSHG',\n",
    "  '002288.XSHE',\n",
    "  '002604.XSHE',\n",
    "  '601398.XSHG',\n",
    "  '002636.XSHE',\n",
    "  '600202.XSHG',\n",
    "  '600172.XSHG'],\n",
    " '2014-02-07':['600187.XSHG',\n",
    " '600808.XSHG',\n",
    " '600616.XSHG',\n",
    " '601225.XSHG',\n",
    " '002586.XSHE',\n",
    " '000962.XSHE',\n",
    " '601113.XSHG',\n",
    " '000966.XSHE',\n",
    " '600862.XSHG',\n",
    " '002103.XSHE',\n",
    " '300137.XSHE']}"
   ]
  },
  {
   "cell_type": "markdown",
   "metadata": {},
   "source": [
    "### 第一部分测试\n",
    "\n",
    "> 波动率部分优化器测试设置：\n",
    "\n",
    "> 测试1：第一类组合、添加/不添加头寸约束（0~20%）、波动率最小化/风险平价\n",
    "\n",
    "> 测试2：第二/第三类组合、添加/不添加头寸约束（0~5%）、波动率最小化/风险平价\n",
    "\n",
    "\n",
    "> 测试3：第四类组合、添加/不添加头寸约束（0~10%）、波动率最小化/风险平价\n"
   ]
  },
  {
   "cell_type": "markdown",
   "metadata": {},
   "source": [
    "**测试1： 第一类组合**"
   ]
  },
  {
   "cell_type": "code",
   "execution_count": null,
   "metadata": {},
   "outputs": [],
   "source": [
    "min_volatility_without_bounds_1 = {k:portfolio_optimize(v,k,method=OptimizeMethod.VOLATILITY_MINIMIZATION) for k,v in sample_portfolios.items()}\n",
    "min_volatility_with_bounds_1 = {k:portfolio_optimize(v,k,method=OptimizeMethod.VOLATILITY_MINIMIZATION,bounds={\"*\":(0,0.2)}) for k,v in sample_portfolios.items()}\n",
    "\n",
    "risk_parity_without_bounds_1 = {k:portfolio_optimize(v,k,method=OptimizeMethod.RISK_PARITY) for k,v in sample_portfolios.items()}\n",
    "risk_parity_with_bounds_1 = {k:portfolio_optimize(v,k,method=OptimizeMethod.RISK_PARITY,bounds={\"*\":(0,0.2)}) for k,v in sample_portfolios.items()}"
   ]
  },
  {
   "cell_type": "markdown",
   "metadata": {},
   "source": [
    "** 测试2 第二类组合/第三类组合**"
   ]
  },
  {
   "cell_type": "code",
   "execution_count": null,
   "metadata": {},
   "outputs": [],
   "source": [
    "min_volatility_without_bounds_2 = {k:portfolio_optimize(v,k,method=OptimizeMethod.VOLATILITY_MINIMIZATION) for k,v in sample_portfolios.items()}\n",
    "min_volatility_with_bounds_2 = {k:portfolio_optimize(v,k,method=OptimizeMethod.VOLATILITY_MINIMIZATION,bounds={\"*\":(0,0.05)}) for k,v in sample_portfolios.items()}\n",
    "\n",
    "risk_parity_without_bounds_2 = {k:portfolio_optimize(v,k,method=OptimizeMethod.RISK_PARITY) for k,v in sample_portfolios.items()}\n",
    "risk_parity_with_bounds_2 = {k:portfolio_optimize(v,k,method=OptimizeMethod.RISK_PARITY,bounds={\"*\":(0,0.05)}) for k,v in sample_portfolios.items()}"
   ]
  },
  {
   "cell_type": "code",
   "execution_count": null,
   "metadata": {},
   "outputs": [],
   "source": [
    "min_volatility_without_bounds_3 = {k:portfolio_optimize(v,k,method=OptimizeMethod.VOLATILITY_MINIMIZATION) for k,v in sample_portfolios.items()}\n",
    "min_volatility_with_bounds_3 = {k:portfolio_optimize(v,k,method=OptimizeMethod.VOLATILITY_MINIMIZATION,bounds={\"*\":(0,0.05)}) for k,v in sample_portfolios.items()}\n",
    "\n",
    "risk_parity_without_bounds_3 = {k:portfolio_optimize(v,k,method=OptimizeMethod.RISK_PARITY) for k,v in sample_portfolios.items()}\n",
    "risk_parity_with_bounds_3 = {k:portfolio_optimize(v,k,method=OptimizeMethod.RISK_PARITY,bounds={\"*\":(0,0.05)}) for k,v in sample_portfolios.items()}"
   ]
  },
  {
   "cell_type": "markdown",
   "metadata": {},
   "source": [
    "** 测试3 第四类组合 **"
   ]
  },
  {
   "cell_type": "code",
   "execution_count": null,
   "metadata": {},
   "outputs": [],
   "source": [
    "min_volatility_without_bounds_4 = {k:portfolio_optimize(v,k,method=OptimizeMethod.VOLATILITY_MINIMIZATION) for k,v in sample_portfolios.items()}\n",
    "min_volatility_with_bounds_4 = {k:portfolio_optimize(v,k,method=OptimizeMethod.VOLATILITY_MINIMIZATION,bounds={\"*\":(0,0.1)}) for k,v in sample_portfolios.items()}\n",
    "\n",
    "risk_parity_without_bounds_4 = {k:portfolio_optimize(v,k,method=OptimizeMethod.RISK_PARITY) for k,v in sample_portfolios.items()}\n",
    "risk_parity_with_bounds_4 = {k:portfolio_optimize(v,k,method=OptimizeMethod.RISK_PARITY,bounds={\"*\":(0,0.1)}) for k,v in sample_portfolios.items()}"
   ]
  },
  {
   "cell_type": "markdown",
   "metadata": {},
   "source": [
    "### 第二部分测试 \n",
    "> 主动风险部分优化器测试：\n",
    "\n",
    "> 测试1：第五类组合、添加/不添加主动头寸约束（-10%~10%）、主动风险最小化/主动风险平价\n",
    "\n",
    "> 测试2：第六、七、八类组合、添加/不添加主动头寸约束（-5%~5%）、主动风险最小化/主动风险平价\n",
    "\n",
    ">测试3：第七、八类组合、考虑/不考虑风格中性约束(-5%,5%)、考虑/不考虑行业中性约束(-5%,5%)、主动风险最小化/主动风险平价\n"
   ]
  },
  {
   "cell_type": "markdown",
   "metadata": {},
   "source": [
    "** 测试1 第五类组合**"
   ]
  },
  {
   "cell_type": "code",
   "execution_count": null,
   "metadata": {},
   "outputs": [],
   "source": [
    "sample_portfolios = {k:sorted(set(index_components(\"000300.XSHG\",k))&set(v)) for k,v in pd.read_pickle(\"stocks_pool/all_stocks_list.pkl\")[:2].to_dict().items()}"
   ]
  },
  {
   "cell_type": "code",
   "execution_count": null,
   "metadata": {},
   "outputs": [],
   "source": [
    "tracking_error_without_bounds_5 = {k:portfolio_optimize(v,k,method=OptimizeMethod.TRACKING_ERROR_MINIMIZATION) for k,v in sample_portfolios.items()}\n",
    "tracking_error_with_bounds_5 = {k:portfolio_optimize(v,k,method=OptimizeMethod.TRACKING_ERROR_MINIMIZATION,active_bounds={\"*\":(0.1,0.1)}) for k,v in sample_portfolios.items()}\n",
    "\n",
    "tracking_error_riskBudget_without_bounds_5 = {k:portfolio_optimize(v,k,method=OptimizeMethod.RISK_BUDGETING,riskBudgetOptions={\"riskMetrics\":\"tracking_error\"}) for k,v in sample_portfolios.items()}\n",
    "tracking_error_riskBudget_with_bounds_5 = {k:portfolio_optimize(v,k,method=OptimizeMethod.RISK_BUDGETING,active_bounds={\"*\":(0.1,0.1)},riskBudgetOptions={\"riskMetrics\":\"tracking_error\"}) for k,v in sample_portfolios.items()}"
   ]
  },
  {
   "cell_type": "markdown",
   "metadata": {},
   "source": [
    "** 测试2 第6、7、8类组合**"
   ]
  },
  {
   "cell_type": "code",
   "execution_count": null,
   "metadata": {},
   "outputs": [],
   "source": [
    "tracking_error_without_bounds_6 = {k:portfolio_optimize(v,k,method=OptimizeMethod.TRACKING_ERROR_MINIMIZATION) for k,v in sample_portfolios.items()}\n",
    "tracking_error_with_bounds_6 = {k:portfolio_optimize(v,k,method=OptimizeMethod.TRACKING_ERROR_MINIMIZATION,active_bounds={\"*\":(0.05,0.05)}) for k,v in sample_portfolios.items()}\n",
    "\n",
    "tracking_error_riskBudget_without_bounds_6 = {k:portfolio_optimize(v,k,method=OptimizeMethod.RISK_BUDGETING,riskBudgetOptions={\"riskMetrics\":\"tracking_error\"}) for k,v in sample_portfolios.items()}\n",
    "tracking_error_riskBudget_with_bounds_6 = {k:portfolio_optimize(v,k,method=OptimizeMethod.RISK_BUDGETING,active_bounds={\"*\":(0.05,0.05)},riskBudgetOptions={\"riskMetrics\":\"tracking_error\"}) for k,v in sample_portfolios.items()}"
   ]
  },
  {
   "cell_type": "code",
   "execution_count": null,
   "metadata": {},
   "outputs": [],
   "source": [
    "tracking_error_without_bounds_7 = {k:portfolio_optimize(v,k,method=OptimizeMethod.TRACKING_ERROR_MINIMIZATION) for k,v in sample_portfolios.items()}\n",
    "tracking_error_with_bounds_7 = {k:portfolio_optimize(v,k,method=OptimizeMethod.TRACKING_ERROR_MINIMIZATION,active_bounds={\"*\":(0.05,0.05)}) for k,v in sample_portfolios.items()}\n",
    "\n",
    "tracking_error_riskBudget_without_bounds_7 = {k:portfolio_optimize(v,k,method=OptimizeMethod.RISK_BUDGETING,riskBudgetOptions={\"riskMetrics\":\"tracking_error\"}) for k,v in sample_portfolios.items()}\n",
    "tracking_error_riskBudget_with_bounds_7 = {k:portfolio_optimize(v,k,method=OptimizeMethod.RISK_BUDGETING,active_bounds={\"*\":(0.05,0.05)},riskBudgetOptions={\"riskMetrics\":\"tracking_error\"}) for k,v in sample_portfolios.items()}"
   ]
  },
  {
   "cell_type": "code",
   "execution_count": null,
   "metadata": {},
   "outputs": [],
   "source": [
    "tracking_error_without_bounds_8 = {k:portfolio_optimize(v,k,method=OptimizeMethod.TRACKING_ERROR_MINIMIZATION) for k,v in sample_portfolios.items()}\n",
    "tracking_error_with_bounds_8 = {k:portfolio_optimize(v,k,method=OptimizeMethod.TRACKING_ERROR_MINIMIZATION,active_bounds={\"*\":(0.05,0.05)}) for k,v in sample_portfolios.items()}\n",
    "\n",
    "tracking_error_riskBudget_without_bounds_8 = {k:portfolio_optimize(v,k,method=OptimizeMethod.RISK_BUDGETING,riskBudgetOptions={\"riskMetrics\":\"tracking_error\"}) for k,v in sample_portfolios.items()}\n",
    "tracking_error_riskBudget_with_bounds_8 = {k:portfolio_optimize(v,k,method=OptimizeMethod.RISK_BUDGETING,active_bounds={\"*\":(0.05,0.05)},riskBudgetOptions={\"riskMetrics\":\"tracking_error\"}) for k,v in sample_portfolios.items()}"
   ]
  },
  {
   "cell_type": "markdown",
   "metadata": {},
   "source": [
    "** 测试3 第7、8类组合**"
   ]
  },
  {
   "cell_type": "code",
   "execution_count": null,
   "metadata": {},
   "outputs": [],
   "source": [
    "benchmarkOptions1 = {\"industryNeutral\":\"*\",\"industryDeviation\":0.05}\n",
    "benchmarkOptions2 = {\"styleNeutral\":\"*\",\"styleDeviation\":0.05}"
   ]
  },
  {
   "cell_type": "code",
   "execution_count": null,
   "metadata": {},
   "outputs": [],
   "source": [
    "# 第一行和第四行代码 与上一个 测试中的一致，没必要再运行\n",
    "tracking_error_without_bounds_7 = {k:portfolio_optimize(v,k,method=OptimizeMethod.TRACKING_ERROR_MINIMIZATION) for k,v in sample_portfolios.items()}\n",
    "tracking_error_with_industryNeutral_7 = {k:portfolio_optimize(v,k,method=OptimizeMethod.TRACKING_ERROR_MINIMIZATION,benchmarkOptions=benchmarkOptions1) for k,v in sample_portfolios.items()}\n",
    "tracking_error_with_styleNeutral_7 = {k:portfolio_optimize(v,k,method=OptimizeMethod.TRACKING_ERROR_MINIMIZATION,benchmarkOptions=benchmarkOptions2) for k,v in sample_portfolios.items()}\n",
    "\n",
    "tracking_error_riskBudget_without_bounds_7 = {k:portfolio_optimize(v,k,method=OptimizeMethod.RISK_BUDGETING,riskBudgetOptions={\"riskMetrics\":\"tracking_error\"}) for k,v in sample_portfolios.items()}\n",
    "tracking_error_riskBudgetwith_industryNeutral_7 = {k:portfolio_optimize(v,k,method=OptimizeMethod.RISK_BUDGETING,benchmarkOptions=benchmarkOptions1,riskBudgetOptions={\"riskMetrics\":\"tracking_error\"}) for k,v in sample_portfolios.items()}\n",
    "tracking_error_riskBudgetwith_styleNeutral_7 = {k:portfolio_optimize(v,k,method=OptimizeMethod.RISK_BUDGETING,benchmarkOptions=benchmarkOptions2,riskBudgetOptions={\"riskMetrics\":\"tracking_error\"}) for k,v in sample_portfolios.items()}\n"
   ]
  },
  {
   "cell_type": "code",
   "execution_count": null,
   "metadata": {},
   "outputs": [],
   "source": [
    "# 第一行和第四行代码 与上一个 测试中的一致，没必要再运行\n",
    "tracking_error_without_bounds_8 = {k:portfolio_optimize(v,k,method=OptimizeMethod.TRACKING_ERROR_MINIMIZATION) for k,v in sample_portfolios.items()}\n",
    "tracking_error_with_industryNeutral_8 = {k:portfolio_optimize(v,k,method=OptimizeMethod.TRACKING_ERROR_MINIMIZATION,benchmarkOptions=benchmarkOptions1) for k,v in sample_portfolios.items()}\n",
    "tracking_error_with_styleNeutral_8 = {k:portfolio_optimize(v,k,method=OptimizeMethod.TRACKING_ERROR_MINIMIZATION,benchmarkOptions=benchmarkOptions2) for k,v in sample_portfolios.items()}\n",
    "\n",
    "tracking_error_riskBudget_without_bounds_8 = {k:portfolio_optimize(v,k,method=OptimizeMethod.RISK_BUDGETING,riskBudgetOptions={\"riskMetrics\":\"tracking_error\"}) for k,v in sample_portfolios.items()}\n",
    "tracking_error_riskBudgetwith_industryNeutral_8 = {k:portfolio_optimize(v,k,method=OptimizeMethod.RISK_BUDGETING,benchmarkOptions=benchmarkOptions1,riskBudgetOptions={\"riskMetrics\":\"tracking_error\"}) for k,v in sample_portfolios.items()}\n",
    "tracking_error_riskBudgetwith_styleNeutral_8 = {k:portfolio_optimize(v,k,method=OptimizeMethod.RISK_BUDGETING,benchmarkOptions=benchmarkOptions2,riskBudgetOptions={\"riskMetrics\":\"tracking_error\"}) for k,v in sample_portfolios.items()}\n"
   ]
  },
  {
   "cell_type": "markdown",
   "metadata": {},
   "source": [
    "### 第三部分测试：\n",
    ">指数增强部分优化器测试\n",
    "\n",
    "> 测试1：第七、八类组合、以盈利率因子暴露度作为指标，添加/不添加主动头寸约束（-5%~5%）、考虑/不考虑追踪误差约束、考虑/不考虑除盈利率因子外的风格约束、考虑/不考虑行业约束，指标最大化\n",
    "\n",
    "> 测试2：第七、八类组合、以盈利率因子暴露度作为风险预算，添加/不添加主动头寸约束（-5%~5%）、考虑/不考虑追踪误差约束、考虑/不考虑除盈利率因子外的风格约束、考虑/不考虑行业约束，指标最大化\n",
    "\n",
    "> 测试3：第七、八类组合、以盈利率因子暴露度分5类作为风险预算，添加/不添加主动头寸约束（-5%~5%）、考虑/不考虑追踪误差约束、考虑/不考虑除盈利率因子外的风格约束、考虑/不考虑行业约束，指标最大化\n"
   ]
  },
  {
   "cell_type": "code",
   "execution_count": null,
   "metadata": {},
   "outputs": [],
   "source": [
    "benchmarkOptions1 = {\"industryNeutral\":\"*\",\"industryDeviation\":0.05}\n",
    "benchmarkOptions2 = {\"styleNeutral\":['beta', 'momentum', 'size', 'residual_volatility', 'growth', 'book_to_price','leverage', 'liquidity', 'non_linear_size'],\"styleDeviation\":0.05}"
   ]
  },
  {
   "cell_type": "markdown",
   "metadata": {},
   "source": [
    "** 测试1 **"
   ]
  },
  {
   "cell_type": "code",
   "execution_count": null,
   "metadata": {},
   "outputs": [],
   "source": [
    "for k,v in sample_portfolios.items():\n",
    "    indicators = get_style_factor_exposure(v,k,k,factors=\"earnings_yield\").xs(k,level=1)['earnings_yield']\n",
    "    #     指标最大化\n",
    "    enhancement_without_bounds_7 = portfolio_optimize(v,k,method=OptimizeMethod.INDICATOR_MAXIMIZATION,indicator_series=indicators)\n",
    "    #     添加主动头寸约束\n",
    "    enhancement_with_active_bounds_7 = portfolio_optimize(v,k,method=OptimizeMethod.INDICATOR_MAXIMIZATION,indicator_series=indicators,active_bounds={\"*\":(0.05,0.05)}) \n",
    "    #    除盈利因子外的风格约束\n",
    "    enhancement_with_style_cons_7 =portfolio_optimize(v,k,method=OptimizeMethod.INDICATOR_MAXIMIZATION,indicator_series=indicators,benchmarkOptions=benchmarkOptions2)\n",
    "    #   行业约束\n",
    "    enhancement_with_industry_cons_7 = portfolio_optimize(v,k,method=OptimizeMethod.INDICATOR_MAXIMIZATION,indicator_series=indicators,benchmarkOptions=benchmarkOptions1)\n",
    "    #   备注：跟踪误差约束已废除"
   ]
  },
  {
   "cell_type": "code",
   "execution_count": null,
   "metadata": {},
   "outputs": [],
   "source": [
    "for k,v in sample_portfolios.items():\n",
    "    indicators = get_style_factor_exposure(v,k,k,factors=\"earnings_yield\").xs(k,level=1)['earnings_yield']\n",
    "    #     指标最大化\n",
    "    enhancement_without_bounds_8 = portfolio_optimize(v,k,method=OptimizeMethod.INDICATOR_MAXIMIZATION,indicator_series=indicators)\n",
    "    #     添加主动头寸约束\n",
    "    enhancement_with_active_bounds_8 = portfolio_optimize(v,k,method=OptimizeMethod.INDICATOR_MAXIMIZATION,indicator_series=indicators,active_bounds={\"*\":(0.05,0.05)}) \n",
    "    #    除盈利因子外的风格约束\n",
    "    enhancement_with_style_cons_8 =portfolio_optimize(v,k,method=OptimizeMethod.INDICATOR_MAXIMIZATION,indicator_series=indicators,benchmarkOptions=benchmarkOptions2)\n",
    "    #   行业约束\n",
    "    enhancement_with_industry_cons_8 = portfolio_optimize(v,k,method=OptimizeMethod.INDICATOR_MAXIMIZATION,indicator_series=indicators,benchmarkOptions=benchmarkOptions1)\n",
    "#     "
   ]
  },
  {
   "cell_type": "markdown",
   "metadata": {},
   "source": [
    "** 测试2 **"
   ]
  },
  {
   "cell_type": "code",
   "execution_count": null,
   "metadata": {},
   "outputs": [],
   "source": [
    "for k,v in sample_portfolios.items():\n",
    "    indicators = get_style_factor_exposure(v,k,k,factors=\"earnings_yield\").xs(k,level=1)['earnings_yield']\n",
    "    #     使用暴露度作为风险预算评级\n",
    "    enhancement_without_bounds_7 = portfolio_optimize(v,k,method=OptimizeMethod.RISK_BUDGETING,riskBudgetOptions = {\"assetRank\":indicators})\n",
    "    #     添加主动头寸约束\n",
    "    enhancement_with_active_bounds_7 = portfolio_optimize(v,k,method=OptimizeMethod.RISK_BUDGETING,active_bounds={\"*\":(0.05,0.05)},riskBudgetOptions = {\"assetRank\":indicators}) \n",
    "    #    除盈利因子外的风格约束\n",
    "    enhancement_with_style_cons_7 =portfolio_optimize(v,k,method=OptimizeMethod.RISK_BUDGETING,benchmarkOptions=benchmarkOptions2,riskBudgetOptions = {\"assetRank\":indicators})\n",
    "    #   行业约束\n",
    "    enhancement_with_industry_cons_7 = portfolio_optimize(v,k,method=OptimizeMethod.RISK_BUDGETING,benchmarkOptions=benchmarkOptions1,riskBudgetOptions = {\"assetRank\":indicators})\n",
    "    #   备注：跟踪误差约束已废除"
   ]
  },
  {
   "cell_type": "code",
   "execution_count": null,
   "metadata": {},
   "outputs": [],
   "source": [
    "for k,v in sample_portfolios.items():\n",
    "    indicators = get_style_factor_exposure(v,k,k,factors=\"earnings_yield\").xs(k,level=1)['earnings_yield']\n",
    "    #     使用暴露度作为风险预算评级\n",
    "    enhancement_without_bounds_8 = portfolio_optimize(v,k,method=OptimizeMethod.RISK_BUDGETING,riskBudgetOptions = {\"assetRank\":indicators})\n",
    "    #     添加主动头寸约束\n",
    "    enhancement_with_active_bounds_8 = portfolio_optimize(v,k,method=OptimizeMethod.RISK_BUDGETING,active_bounds={\"*\":(0.05,0.05)},riskBudgetOptions = {\"assetRank\":indicators}) \n",
    "    #    除盈利因子外的风格约束\n",
    "    enhancement_with_style_cons_8 =portfolio_optimize(v,k,method=OptimizeMethod.RISK_BUDGETING,benchmarkOptions=benchmarkOptions2,riskBudgetOptions = {\"assetRank\":indicators})\n",
    "    #   行业约束\n",
    "    enhancement_with_industry_cons_8 = portfolio_optimize(v,k,method=OptimizeMethod.RISK_BUDGETING,benchmarkOptions=benchmarkOptions1,riskBudgetOptions = {\"assetRank\":indicators})\n",
    "    #   备注：跟踪误差约束已废除"
   ]
  },
  {
   "cell_type": "markdown",
   "metadata": {},
   "source": [
    "** 测试 3**"
   ]
  },
  {
   "cell_type": "code",
   "execution_count": null,
   "metadata": {},
   "outputs": [],
   "source": [
    "for k,v in sample_portfolios.items():\n",
    "    indicators = get_style_factor_exposure(v,k,k,factors=\"earnings_yield\").xs(k,level=1)['earnings_yield']\n",
    "    indicators = pd.cut(indicators,5,labels=False)+1    \n",
    "    #     使用暴露度作为风险预算评级\n",
    "    enhancement_without_bounds_7 = portfolio_optimize(v,k,method=OptimizeMethod.RISK_BUDGETING,riskBudgetOptions = {\"assetRank\":indicators})\n",
    "    #     添加主动头寸约束\n",
    "    enhancement_with_active_bounds_7 = portfolio_optimize(v,k,method=OptimizeMethod.RISK_BUDGETING,active_bounds={\"*\":(0.05,0.05)},riskBudgetOptions = {\"assetRank\":indicators}) \n",
    "    #    除盈利因子外的风格约束\n",
    "    enhancement_with_style_cons_7 =portfolio_optimize(v,k,method=OptimizeMethod.RISK_BUDGETING,benchmarkOptions=benchmarkOptions2,riskBudgetOptions = {\"assetRank\":indicators})\n",
    "    #   行业约束\n",
    "    enhancement_with_industry_cons_7 = portfolio_optimize(v,k,method=OptimizeMethod.RISK_BUDGETING,benchmarkOptions=benchmarkOptions1,riskBudgetOptions = {\"assetRank\":indicators})\n",
    "    #   备注：跟踪误差约束已废除"
   ]
  },
  {
   "cell_type": "code",
   "execution_count": null,
   "metadata": {},
   "outputs": [],
   "source": [
    "for k,v in sample_portfolios.items():\n",
    "    indicators = get_style_factor_exposure(v,k,k,factors=\"earnings_yield\").xs(k,level=1)['earnings_yield']\n",
    "    indicators = pd.cut(indicators,5,labels=False)+1    \n",
    "    #     使用暴露度作为风险预算评级\n",
    "    enhancement_without_bounds_8 = portfolio_optimize(v,k,method=OptimizeMethod.RISK_BUDGETING,riskBudgetOptions = {\"assetRank\":indicators})\n",
    "    #     添加主动头寸约束\n",
    "    enhancement_with_active_bounds_8 = portfolio_optimize(v,k,method=OptimizeMethod.RISK_BUDGETING,active_bounds={\"*\":(0.05,0.05)},riskBudgetOptions = {\"assetRank\":indicators}) \n",
    "    #    除盈利因子外的风格约束\n",
    "    enhancement_with_style_cons_8 =portfolio_optimize(v,k,method=OptimizeMethod.RISK_BUDGETING,benchmarkOptions=benchmarkOptions2,riskBudgetOptions = {\"assetRank\":indicators})\n",
    "    #   行业约束\n",
    "    enhancement_with_industry_cons_8 = portfolio_optimize(v,k,method=OptimizeMethod.RISK_BUDGETING,benchmarkOptions=benchmarkOptions1,riskBudgetOptions = {\"assetRank\":indicators})\n",
    "    #   备注：跟踪误差约束已废除"
   ]
  },
  {
   "cell_type": "markdown",
   "metadata": {},
   "source": [
    "### 均值方差优化器测试见 <测试_fraction2>"
   ]
  }
 ],
 "metadata": {
  "kernelspec": {
   "display_name": "Python 3",
   "language": "python",
   "name": "python3"
  },
  "language_info": {
   "codemirror_mode": {
    "name": "ipython",
    "version": 3
   },
   "file_extension": ".py",
   "mimetype": "text/x-python",
   "name": "python",
   "nbconvert_exporter": "python",
   "pygments_lexer": "ipython3",
   "version": "3.5.5"
  }
 },
 "nbformat": 4,
 "nbformat_minor": 2
}
